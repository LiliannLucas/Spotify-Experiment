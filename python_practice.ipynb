{
  "nbformat": 4,
  "nbformat_minor": 0,
  "metadata": {
    "colab": {
      "name": "python_practice.ipynb",
      "provenance": [],
      "collapsed_sections": [],
      "include_colab_link": true
    },
    "kernelspec": {
      "name": "python3",
      "display_name": "Python 3"
    },
    "language_info": {
      "name": "python"
    }
  },
  "cells": [
    {
      "cell_type": "markdown",
      "metadata": {
        "id": "view-in-github",
        "colab_type": "text"
      },
      "source": [
        "<a href=\"https://colab.research.google.com/github/LiliannLucas/Spotify-Experiment/blob/main/python_practice.ipynb\" target=\"_parent\"><img src=\"https://colab.research.google.com/assets/colab-badge.svg\" alt=\"Open In Colab\"/></a>"
      ]
    },
    {
      "cell_type": "markdown",
      "metadata": {
        "id": "xlcM89aSxLiP"
      },
      "source": [
        "You have text \"**hello, and welcome to my world.**\"\n",
        "1. make all character to upper case\n",
        "2. make first character to upper case\n",
        "3. find length of text\n",
        "4. tokenize by word\n",
        "5. find how many words in the tex\n",
        "6. Find all words start with **w**\n",
        "7. find if text contains any numeric value\n",
        "8. change **my** to **Lily**\n",
        "\n",
        "\n",
        "see here : https://www.w3schools.com/python/python_ref_string.asp\n"
      ]
    },
    {
      "cell_type": "code",
      "metadata": {
        "id": "_Z6VI9_uyOlQ"
      },
      "source": [
        "# write your codes here\n",
        "\n",
        "print(\"hello, and welcome to my world.\")\n",
        "s = \"hello, and welcome to my world.\"\n",
        "#1\n",
        "s.upper()\n",
        "#2: incorrect re-do\n",
        "s.capitalize()\n",
        "#3\n",
        "a_string = \"hello, and welcome to my world.\"\n",
        "capitalized_string = a_string.capitalize()\n",
        "\n",
        "print(capitalized_string)\n",
        "#4\n",
        "import nltk\n",
        "nltk.download('punkt')\n",
        "nltk.download('averaged_perceptron_tagger')\n",
        "nltk.download('stopwords')\n",
        "\n",
        "from nltk.tokenize import word_tokenize\n",
        "Text = \"hello, and welcome to my world.\"\n",
        "Tokenized = word_tokenize(Text)\n",
        "print(Tokenized)\n",
        "#5\n",
        "from collections import Counter\n",
        "import re\n",
        "\n",
        "text = \"\"\"hello, and welcome to my world.\"\"\"\n"
      ],
      "execution_count": null,
      "outputs": []
    },
    {
      "cell_type": "code",
      "metadata": {
        "id": "IIfWxbMnNOkL"
      },
      "source": [
        "#6 - help\n",
        "s = \"hello, and welcome to my world.\"\n",
        "re.search(\"w\", s)\n",
        "#7\n",
        "str.isdecimal(s)\n",
        "#8\n",
        "s.replace(\"my\", \"Lily\", 1)"
      ],
      "execution_count": null,
      "outputs": []
    },
    {
      "cell_type": "markdown",
      "metadata": {
        "id": "E3yqGzBiyWbc"
      },
      "source": [
        "1. create a list that contains from 0 to 100\n",
        "2. multipy all elementw with 2\n",
        "3. divide all elements with 5\n",
        "4. remove all elements that is under 50\n",
        "5. sort element in high to low value\n"
      ]
    },
    {
      "cell_type": "code",
      "metadata": {
        "id": "uMr58wE_0n7N"
      },
      "source": [
        "#write your code here\n",
        "#1 : missing 0 and 100\n",
        "a_list = list(range(0, 101))\n",
        "print(a_list)\n",
        "#2\n",
        "b_list = [item * 2 for item in a_list]\n",
        "print(b_list)\n",
        "#3\n",
        "num = 5\n",
        "c_list = [i/num for i in a_list]\n",
        "print(c_list)\n",
        "\n",
        "#5\n",
        "a_list.sort(reverse=True)\n"
      ],
      "execution_count": null,
      "outputs": []
    },
    {
      "cell_type": "code",
      "metadata": {
        "id": "6JnHYaQ3m_vc"
      },
      "source": [
        "#4\n",
        "a_list = list(range(0, 101))\n",
        "\n",
        "print(a_list)\n",
        "\n",
        "len_a = len(a_list)\n",
        "\n",
        "position = 0\n",
        "b = []\n",
        "for n in a_list:\n",
        "  if n < 50:\n",
        "    b.append(n)\n",
        "  else:\n",
        "    print(n, position, \"more.\")\n",
        "\n",
        "print(b)\n",
        "\n",
        "\n",
        "# position = 0\n",
        "# for n in a_list:\n",
        "#   if n < 50:\n",
        "#     a_list.pop(position)\n",
        "#     print(n, position, \"less.\")\n",
        "#   else:\n",
        "#     print(n, position, \"more.\")\n",
        "#   position = position + 1\n",
        "#   # if n < 50:\n",
        "#   #   a_list.remove(n)\n",
        "\n",
        "\n",
        "\n",
        "\n",
        "\n",
        "# print(a_list)\n",
        "\n",
        "# i = 0\n",
        "# while i < len_a:\n",
        "#   print(i, a_list[i])\n",
        "#   if a_list[i] < 50:\n",
        "#    del(a_list[i])\n",
        "#   else:\n",
        "#     print(\"Over.\", a_list[i])\n",
        "#   i = i + 1\n",
        "\n"
      ],
      "execution_count": null,
      "outputs": []
    },
    {
      "cell_type": "markdown",
      "metadata": {
        "id": "DPZ5BiE7li9T"
      },
      "source": [
        "You have text \"**Python is a general-purpose programming language, so it can be used for many things. Python is used for web development, AI, machine learning, operating systems, mobile application development, and video games**\"\n",
        "\n",
        "1. how many words are in the text?\n",
        "2. how many \"a\" is in the text?\n",
        "3. how many sentences are in the text?\n",
        "4. sort words by alphabatic order. e.g. Python, is, a ==> a, is, Python\n",
        "5. how many \"is\" word in the text on word level? and, what is position? e.g. Python ==> Occurence :2 and, its position is on 0 and 14"
      ]
    },
    {
      "cell_type": "code",
      "metadata": {
        "id": "n0lbKbg5S59S",
        "colab": {
          "base_uri": "https://localhost:8080/"
        },
        "outputId": "272be162-3050-4574-81fb-dc93593f2f12"
      },
      "source": [
        "#  SEE https://python101.pythonlibrary.org/chapter4_conditionals.html https://python101.pythonlibrary.org/chapter5_loops.html\n",
        "s = \"Python is a general-purpose programming language, so it can be used for many things. Python is used for web development, AI, machine learning, operating systems, mobile application development, and video games.\"\n",
        "# #1\n",
        "# s = \"Python is a general-purpose programming language, so it can be used for many things. Python is used for web development, AI, machine learning, operating systems, mobile application development, and video games.\"\n",
        "# word_list = s.split()\n",
        "\n",
        "# number_of_words = len(word_list)\n",
        "# # print(number_of_words)\n",
        "# # #2\n",
        "# s.count(\"a\")\n",
        "# #3-help==> sentence is finishing by \".\" so, you need to split by \".\"\n",
        "# #4\n",
        "s = \"Python is a general-purpose programming language, so it can be used for many things. Python is used for web development, AI, machine learning, operating systems, mobile application development, and video games.\"\n",
        "words = s.split()  \n",
        "print(words)\n",
        "# words.sort()   \n",
        "\n",
        "count = 0\n",
        "position = 0\n",
        "\n",
        "for w in words:\n",
        "  if w.lower() == \"is\":\n",
        "    count = count + 1\n",
        "    print(w, count, position)\n",
        "  position = position + 1\n",
        "\n",
        "# #5-????\n",
        "\n",
        "# for n in word:\n",
        "#   if word.find(\"is\"):\n",
        "#     print(\"occurs\")\n",
        "\n",
        "# print(words)\n",
        "\n"
      ],
      "execution_count": null,
      "outputs": [
        {
          "output_type": "stream",
          "text": [
            "['Python', 'is', 'a', 'general-purpose', 'programming', 'language,', 'so', 'it', 'can', 'be', 'used', 'for', 'many', 'things.', 'Python', 'is', 'used', 'for', 'web', 'development,', 'AI,', 'machine', 'learning,', 'operating', 'systems,', 'mobile', 'application', 'development,', 'and', 'video', 'games.']\n",
            "is 1 1\n",
            "is 2 15\n"
          ],
          "name": "stdout"
        }
      ]
    },
    {
      "cell_type": "markdown",
      "metadata": {
        "id": "Gqqq-vnDqm7_"
      },
      "source": [
        "You have text \"I like Python!\"\n",
        "\n",
        "Here we are talking about character level\n",
        "1. how many characters in the text?\n",
        "2. what is character on position 6?\n",
        "3. replace position 5 with character \"P\""
      ]
    },
    {
      "cell_type": "code",
      "metadata": {
        "id": "9TGF31JOqtDC",
        "colab": {
          "base_uri": "https://localhost:8080/"
        },
        "outputId": "c953ddd0-99d7-4adb-d895-96400507284c"
      },
      "source": [
        "s = \"I like Python!\"\n",
        "#1\n",
        "str1 = \"I like Python!\"\n",
        "total = 0\n",
        " \n",
        "for i in str1:\n",
        "    total = total + 1\n",
        " \n",
        "print(\"Total Number of Characters in this String = \", total)\n",
        "\n",
        "#2\n",
        "given_string = \"I like Python!\"\n",
        "   \n",
        "char = \"6\" \n",
        "pos = None\n",
        "for i in range(0, len(given_string)): \n",
        "    if given_string[i] == char: \n",
        "        pos = i + 1\n",
        "        break\n",
        "      \n",
        "if pos == None: \n",
        "    print (\"character is not available in string\") \n",
        "else:  \n",
        "    print (\"Character {} is present at position {}\".format(char, str(pos)))\n",
        "\n",
        "#3\n",
        "\n"
      ],
      "execution_count": null,
      "outputs": [
        {
          "output_type": "stream",
          "text": [
            "Total Number of Characters in this String =  14\n",
            "character is not available in string\n"
          ],
          "name": "stdout"
        }
      ]
    },
    {
      "cell_type": "markdown",
      "metadata": {
        "id": "p6GAx7o-qtkv"
      },
      "source": [
        "create 3 lists that contains the below;\n",
        "\n",
        ">\n",
        "\n",
        "\n",
        "    1) string values apple, organge, melon\n",
        "    2) numeric values 1-10\n",
        "    3) number and string value of the 1) + 2)"
      ]
    },
    {
      "cell_type": "code",
      "metadata": {
        "id": "Iv5HqwEGqxSw",
        "colab": {
          "base_uri": "https://localhost:8080/"
        },
        "outputId": "0946bed7-25b6-486a-ab99-fef86492bc39"
      },
      "source": [
        "list1 = [\"apple\", \"organge\", \"melon\"]\n",
        "list2 = [1, 2, 3, 4, 5, 6, 7, 8, 9, 10]\n",
        "\n",
        "for x in list2:\n",
        "  list1.append(x)\n",
        "\n",
        "print(list1)"
      ],
      "execution_count": null,
      "outputs": [
        {
          "output_type": "stream",
          "text": [
            "['apple', 'organge', 'melon', 1, 2, 3, 4, 5, 6, 7, 8, 9, 10]\n"
          ],
          "name": "stdout"
        }
      ]
    },
    {
      "cell_type": "markdown",
      "metadata": {
        "id": "6aze8fn7qyi8"
      },
      "source": [
        "1. Create tuple that contains numberic value from 0-10\n",
        "2. create dictionary that contains first name is Lily , last name is Lucas\n"
      ]
    },
    {
      "cell_type": "code",
      "metadata": {
        "id": "OUTZO_sXrsV1",
        "colab": {
          "base_uri": "https://localhost:8080/"
        },
        "outputId": "44002935-b78d-4234-a6f5-142800488f0e"
      },
      "source": [
        "numbertuple = (1, 2, 3, 4, 5, 6, 7, 8, 9, 10)\n",
        "print(numbertuple)\n",
        "\n",
        "Dict = {'Name': 'Lily', 'Lastname': 'Lucas'}\n",
        "print(\"\\nDictionary: \")\n",
        "print(Dict)"
      ],
      "execution_count": null,
      "outputs": [
        {
          "output_type": "stream",
          "text": [
            "(1, 2, 3, 4, 5, 6, 7, 8, 9, 10)\n",
            "\n",
            "Dictionary: \n",
            "{'Name': 'Lily', 'Lastname': 'Lucas'}\n"
          ],
          "name": "stdout"
        }
      ]
    },
    {
      "cell_type": "code",
      "metadata": {
        "id": "fGaFcez8XHpW",
        "colab": {
          "base_uri": "https://localhost:8080/"
        },
        "outputId": "c91a8442-418b-417d-a6fe-9cd755e9f4fb"
      },
      "source": [
        "z = \"I love Qatar.\"\n",
        "x = \"I am from Chicago.\"\n",
        "\n",
        "y = z + x\n",
        "print(y)"
      ],
      "execution_count": null,
      "outputs": [
        {
          "output_type": "stream",
          "text": [
            "I love Qatar.I am from Chicago.\n"
          ],
          "name": "stdout"
        }
      ]
    },
    {
      "cell_type": "code",
      "metadata": {
        "colab": {
          "base_uri": "https://localhost:8080/"
        },
        "id": "Qno-CbL62Isx",
        "outputId": "c9d5cfc3-da36-4645-ae92-bfad791e9956"
      },
      "source": [
        "f = 3.45\n",
        "g = 1\n",
        "h = 53\n",
        "d = f + g + h\n",
        "print(d)"
      ],
      "execution_count": null,
      "outputs": [
        {
          "output_type": "stream",
          "text": [
            "57.45\n"
          ],
          "name": "stdout"
        }
      ]
    },
    {
      "cell_type": "code",
      "metadata": {
        "colab": {
          "base_uri": "https://localhost:8080/"
        },
        "id": "txrVaJb22W_j",
        "outputId": "27bf22d5-f92f-4eb5-aa86-1a4ab81576a7"
      },
      "source": [
        "a = [f, g, h, d]\n",
        "print(a)"
      ],
      "execution_count": null,
      "outputs": [
        {
          "output_type": "stream",
          "text": [
            "[3.45, 1, 53, 57.45]\n"
          ],
          "name": "stdout"
        }
      ]
    },
    {
      "cell_type": "code",
      "metadata": {
        "colab": {
          "base_uri": "https://localhost:8080/"
        },
        "id": "m_nRozLb2qpq",
        "outputId": "aaeb9b18-7e77-41b7-d237-16bf29f24984"
      },
      "source": [
        "print([a])\n",
        "\n",
        "\n",
        "for n in a:\n",
        "  print(n)\n",
        "\n",
        "p = range(len(a))\n",
        "print(p)\n",
        "\n",
        "for m in range(len(a)):\n",
        "  print(m)\n",
        "  if m % 2 == 0:\n",
        "    print(\"This is even.\", m % 2 )\n",
        "  else:\n",
        "    print(\"The numer is odd\", m)\n",
        "\n",
        "print(a)\n",
        "\n",
        "i = 0\n",
        "while i < 4:\n",
        "  print(a[i])\n",
        "  if a[i] % 2 ==0:\n",
        "    print(\"Even.\")\n",
        "  else:\n",
        "    print(\"odd.\")\n",
        "  i = i + 1\n",
        "\n",
        "\n"
      ],
      "execution_count": null,
      "outputs": [
        {
          "output_type": "stream",
          "text": [
            "[[3.45, 1, 53, 57.45]]\n",
            "3.45\n",
            "1\n",
            "53\n",
            "57.45\n",
            "range(0, 4)\n",
            "0\n",
            "This is even. 0\n",
            "1\n",
            "The numer is odd 1\n",
            "2\n",
            "This is even. 0\n",
            "3\n",
            "The numer is odd 3\n",
            "[3.45, 1, 53, 57.45]\n",
            "3.45\n",
            "odd.\n",
            "1\n",
            "odd.\n",
            "53\n",
            "odd.\n",
            "57.45\n",
            "odd.\n"
          ],
          "name": "stdout"
        }
      ]
    },
    {
      "cell_type": "markdown",
      "metadata": {
        "id": "U9gKfeo9naz8"
      },
      "source": [
        "you have the below text: \n",
        "\n",
        "**To avoid manually creating every floorplan, the researchers used a mix of human-designed plans and computer-generated data. There’s not much information in the paper about how much human effort was involved in the evaluation of the algorithm-generated examples included in the training dataset. But without quality training data, supervised learning models will end up making poor inferences.**\n",
        "\n",
        "\n",
        "\n",
        "\n"
      ]
    },
    {
      "cell_type": "markdown",
      "metadata": {
        "id": "F0CKEPTFoAkK"
      },
      "source": [
        "1. find all words that has even index(position). e.g. you need to print index(position) 0, 2, 4, 6 ......."
      ]
    },
    {
      "cell_type": "code",
      "metadata": {
        "colab": {
          "base_uri": "https://localhost:8080/"
        },
        "id": "60S3BjiQwBai",
        "outputId": "aa9be311-ea43-4f8f-a3f4-81d815897263"
      },
      "source": [
        "s = \"To avoid manually creating every floorplan, the researchers used a mix of human-designed plans and computer-generated data. There’s not much information in the paper about how much human effort was involved in the evaluation of the algorithm-generated examples included in the training dataset. But without quality training data, supervised learning models will end up making poor inferences.\"\n",
        "words = s.split()  \n",
        "print(words)\n",
        "\n",
        "odd_i = []\n",
        "even_i = []\n",
        "for i in range(0, len(words)):\n",
        "    if i % 2:\n",
        "        even_i.append(words[i])\n",
        "    else :\n",
        "        odd_i.append(words[i])\n",
        " \n",
        "v = odd_i\n",
        " \n",
        "print(str(v))"
      ],
      "execution_count": null,
      "outputs": [
        {
          "output_type": "stream",
          "text": [
            "['To', 'avoid', 'manually', 'creating', 'every', 'floorplan,', 'the', 'researchers', 'used', 'a', 'mix', 'of', 'human-designed', 'plans', 'and', 'computer-generated', 'data.', 'There’s', 'not', 'much', 'information', 'in', 'the', 'paper', 'about', 'how', 'much', 'human', 'effort', 'was', 'involved', 'in', 'the', 'evaluation', 'of', 'the', 'algorithm-generated', 'examples', 'included', 'in', 'the', 'training', 'dataset.', 'But', 'without', 'quality', 'training', 'data,', 'supervised', 'learning', 'models', 'will', 'end', 'up', 'making', 'poor', 'inferences.']\n",
            "['To', 'manually', 'every', 'the', 'used', 'mix', 'human-designed', 'and', 'data.', 'not', 'information', 'the', 'about', 'much', 'effort', 'involved', 'the', 'of', 'algorithm-generated', 'included', 'the', 'dataset.', 'without', 'training', 'supervised', 'models', 'end', 'making', 'inferences.']\n"
          ],
          "name": "stdout"
        }
      ]
    },
    {
      "cell_type": "markdown",
      "metadata": {
        "id": "C92NZ4mBoWe1"
      },
      "source": [
        "2. find all words that has odd index. e.g. index 1, 3, 5, 7..."
      ]
    },
    {
      "cell_type": "code",
      "metadata": {
        "id": "G-j4msJdoeTF",
        "colab": {
          "base_uri": "https://localhost:8080/"
        },
        "outputId": "29627f8d-d973-4f57-9b62-c03faf294365"
      },
      "source": [
        "s = \"To avoid manually creating every floorplan, the researchers used a mix of human-designed plans and computer-generated data. There’s not much information in the paper about how much human effort was involved in the evaluation of the algorithm-generated examples included in the training dataset. But without quality training data, supervised learning models will end up making poor inferences.\"\n",
        "words = s.split()  \n",
        "print(words)\n",
        "\n",
        "odd_i = []\n",
        "even_i = []\n",
        "for i in range(0, len(words)):\n",
        "    if i % 2:\n",
        "        even_i.append(words[i])\n",
        "    else :\n",
        "        odd_i.append(words[i])\n",
        " \n",
        "v = even_i\n",
        " \n",
        "print(str(v))\n"
      ],
      "execution_count": null,
      "outputs": [
        {
          "output_type": "stream",
          "text": [
            "['To', 'avoid', 'manually', 'creating', 'every', 'floorplan,', 'the', 'researchers', 'used', 'a', 'mix', 'of', 'human-designed', 'plans', 'and', 'computer-generated', 'data.', 'There’s', 'not', 'much', 'information', 'in', 'the', 'paper', 'about', 'how', 'much', 'human', 'effort', 'was', 'involved', 'in', 'the', 'evaluation', 'of', 'the', 'algorithm-generated', 'examples', 'included', 'in', 'the', 'training', 'dataset.', 'But', 'without', 'quality', 'training', 'data,', 'supervised', 'learning', 'models', 'will', 'end', 'up', 'making', 'poor', 'inferences.']\n",
            "['avoid', 'creating', 'floorplan,', 'researchers', 'a', 'of', 'plans', 'computer-generated', 'There’s', 'much', 'in', 'paper', 'how', 'human', 'was', 'in', 'evaluation', 'the', 'examples', 'in', 'training', 'But', 'quality', 'data,', 'learning', 'will', 'up', 'poor']\n"
          ],
          "name": "stdout"
        }
      ]
    },
    {
      "cell_type": "code",
      "metadata": {
        "id": "LvDBecdpbrOZ"
      },
      "source": [
        "# s = \"To avoid manually creating every floorplan, the researchers used a mix of human-designed plans and computer-generated data. There’s not much information in the paper about how much human effort was involved in the evaluation of the algorithm-generated examples included in the training dataset. But without quality training data, supervised learning models will end up making poor inferences.\"\n",
        "# words = s.split()  \n",
        "# print(words)\n",
        "\n",
        "\n",
        "# def odd_values_string(str):\n",
        "#   result = \"\" \n",
        "#   for i in range(len(str)):\n",
        "#     if i % 2 == 0:\n",
        "#       result = result + str[i]\n",
        "#   return result\n",
        "\n",
        "# print(odd_values_string(words))"
      ],
      "execution_count": null,
      "outputs": []
    },
    {
      "cell_type": "markdown",
      "metadata": {
        "id": "3TGUfuQ9ofms"
      },
      "source": [
        "3. find all words that starts with \"m\""
      ]
    },
    {
      "cell_type": "code",
      "metadata": {
        "id": "U847RyYbolPd",
        "colab": {
          "base_uri": "https://localhost:8080/"
        },
        "outputId": "7d2afc85-4ab1-4dcb-a7fb-15dca1c49fe1"
      },
      "source": [
        "s = \"To avoid manually creating every floorplan, the researchers used a mix of human-designed plans and computer-generated data. There’s not much information in the paper about how much human effort was involved in the evaluation of the algorithm-generated examples included in the training dataset. But without quality training data, supervised learning models will end up making poor inferences.\"\n",
        "\n",
        "for i in s.split():\n",
        "    if i.startswith(\"m\"):\n",
        "        print(i)\n"
      ],
      "execution_count": null,
      "outputs": [
        {
          "output_type": "stream",
          "text": [
            "manually\n",
            "mix\n",
            "much\n",
            "much\n",
            "models\n",
            "making\n"
          ],
          "name": "stdout"
        }
      ]
    },
    {
      "cell_type": "markdown",
      "metadata": {
        "id": "VFDKRhzromnt"
      },
      "source": [
        "4. find unique words"
      ]
    },
    {
      "cell_type": "code",
      "metadata": {
        "id": "sYREY_eSowwD",
        "colab": {
          "base_uri": "https://localhost:8080/"
        },
        "outputId": "5852abad-c2cb-410a-ea31-6e323d2fd8e0"
      },
      "source": [
        "\n",
        "from collections import Counter\n",
        "\n",
        "s = \"To avoid manually creating every floorplan, the researchers used a mix of human-designed plans and computer-generated data. There’s not much information in the paper about how much human effort was involved in the evaluation of the algorithm-generated examples included in the training dataset. But without quality training data, supervised learning models will end up making poor inferences.\"\n",
        "\n",
        "words = s.split(' ')\n",
        "c = Counter(words)\n",
        "unique = [w for w in words if c[w] == 1]\n",
        "\n",
        "print(unique)"
      ],
      "execution_count": null,
      "outputs": [
        {
          "output_type": "stream",
          "text": [
            "Unique words:  ['To', 'avoid', 'manually', 'creating', 'every', 'floorplan,', 'researchers', 'used', 'a', 'mix', 'human-designed', 'plans', 'and', 'computer-generated', 'data.', 'There’s', 'not', 'information', 'paper', 'about', 'how', 'human', 'effort', 'was', 'involved', 'evaluation', 'algorithm-generated', 'examples', 'included', 'dataset.', 'But', 'without', 'quality', 'data,', 'supervised', 'learning', 'models', 'will', 'end', 'up', 'making', 'poor', 'inferences.']\n"
          ],
          "name": "stdout"
        }
      ]
    },
    {
      "cell_type": "markdown",
      "metadata": {
        "id": "bQHlWRsOozoo"
      },
      "source": [
        "5. find how many character each word. e.g. avoid = 5"
      ]
    },
    {
      "cell_type": "code",
      "metadata": {
        "id": "Rw3-duMHpMim"
      },
      "source": [
        "s = \"To avoid manually creating every floorplan, the researchers used a mix of human-designed plans and computer-generated data. There’s not much information in the paper about how much human effort was involved in the evaluation of the algorithm-generated examples included in the training dataset. But without quality training data, supervised learning models will end up making poor inferences.\"\n",
        "words = s.split(' ')\n",
        "\n",
        "for e in words:\n",
        "  print(e, len(e))\n",
        "  \n",
        "\n"
      ],
      "execution_count": null,
      "outputs": []
    },
    {
      "cell_type": "markdown",
      "metadata": {
        "id": "YtBbcKz2-RC0"
      },
      "source": [
        "see here as your reference: https://python101.pythonlibrary.org/chapter2_strings.html\n",
        "\n",
        "you need to read string section carefully"
      ]
    },
    {
      "cell_type": "markdown",
      "metadata": {
        "id": "XJ7yDOBe_U5Z"
      },
      "source": [
        "6.find words that occurs more than 2 times"
      ]
    },
    {
      "cell_type": "code",
      "metadata": {
        "id": "rB-ymJN18QnX",
        "colab": {
          "base_uri": "https://localhost:8080/"
        },
        "outputId": "495e5231-8f9b-40bc-ba9d-c8a80a8ba803"
      },
      "source": [
        "\n",
        "s = \"To avoid manually creating every floorplan, the researchers used a mix of human-designed plans and computer-generated data. There’s not much information in the paper about how much human effort was involved in the evaluation of the algorithm-generated examples included in the training dataset. But without quality training data, supervised learning models will end up making poor inferences.\"\n",
        "list = s.split(' ')\n",
        "\n",
        "\n",
        "for i in list:\n",
        "    if s.count(i) > 2:\n",
        "      print(i, s.count(i))\n"
      ],
      "execution_count": null,
      "outputs": [
        {
          "output_type": "stream",
          "text": [
            "the 5\n",
            "a 32\n",
            "in 14\n",
            "the 5\n",
            "in 14\n",
            "the 5\n",
            "the 5\n",
            "in 14\n",
            "the 5\n"
          ],
          "name": "stdout"
        }
      ]
    },
    {
      "cell_type": "markdown",
      "metadata": {
        "id": "RmWnTnHw-yt2"
      },
      "source": [
        "7. get each word, then, move index=0 character to the last index position. e.g. avoid ==> voida, creating==> reatinc"
      ]
    },
    {
      "cell_type": "code",
      "metadata": {
        "id": "Hr7mFlOr_T-9"
      },
      "source": [
        "\n",
        "s = \"To avoid manually creating every floorplan, the researchers used a mix of human-designed plans and computer-generated data. There’s not much information in the paper about how much human effort was involved in the evaluation of the algorithm-generated examples included in the training dataset. But without quality training data, supervised learning models will end up making poor inferences.\"\n",
        "list = s.split(' ')\n",
        "\n",
        "for e in list:\n",
        "  # print(e, e[0])\n",
        "  b = e[0]\n",
        "  a = e[1: ] + b\n",
        "  print(a)\n",
        "\n",
        "\n",
        "\n"
      ],
      "execution_count": null,
      "outputs": []
    },
    {
      "cell_type": "markdown",
      "metadata": {
        "id": "Lehu9rOg_r-s"
      },
      "source": [
        "8. get each word, then sort each character descending order. e.g. cba ==> abc"
      ]
    },
    {
      "cell_type": "code",
      "metadata": {
        "id": "39Cb49dM_nBG"
      },
      "source": [
        "\n",
        "s = \"To avoid manually creating every floorplan, the researchers used a mix of human-designed plans and computer-generated data. There’s not much information in the paper about how much human effort was involved in the evaluation of the algorithm-generated examples included in the training dataset. But without quality training data, supervised learning models will end up making poor inferences.\"\n",
        "list = s.split(' ')\n",
        "\n",
        "for e in list:\n",
        "  # print(e)\n",
        "  a =''.join(reversed(e))\n",
        "  print(a)\n"
      ],
      "execution_count": null,
      "outputs": []
    },
    {
      "cell_type": "markdown",
      "metadata": {
        "id": "T7cNRnxxAvhb"
      },
      "source": [
        "you have the below text:\n",
        "\n",
        "The insurance company needs to understand risks for certain types of events in specific geographies. Such risk events are floods, wildfires, droughts and others. There are various methods to estimate risk. In case of floods, one can obtain official flood risk maps from the local government or insurance own historical data can be analysed. Those methods have some shortcomings, such as official maps not always being available, or they can also be outdated. When using historical insurance data, one learns from its own mistakes, which can be expensive.\n",
        "To address this, we can automatically analyse an extensive archive of satellite imagery and generate an assessment for each timestamp. Predictions of the event in question (flood, wildfires, etc…) are then used to generate aggregates of event frequency at a certain location for each year. When we have data over multiple years we can calculate averages, trends or other relevant statistics."
      ]
    },
    {
      "cell_type": "markdown",
      "metadata": {
        "id": "8Neg_SocECVH"
      },
      "source": [
        "1. find all words shtart with \"s\" and show each word occurence in the text. e.g. Such ==> 5 times"
      ]
    },
    {
      "cell_type": "code",
      "metadata": {
        "id": "LRcBMtU_EBz4",
        "colab": {
          "base_uri": "https://localhost:8080/"
        },
        "outputId": "90ef4bd5-3d4a-4024-81dd-351737d3fd88"
      },
      "source": [
        "s = \"The insurance company needs to understand risks for certain types of events in specific geographies. Such risk events are floods, wildfires, droughts and others. There are various methods to estimate risk. In case of floods, one can obtain official flood risk maps from the local government or insurance own historical data can be analysed. Those methods have some shortcomings, such as official maps not always being available, or they can also be outdated. When using historical insurance data, one learns from its own mistakes, which can be expensive. To address this, we can automatically analyse an extensive archive of satellite imagery and generate an assessment for each timestamp. Predictions of the event in question (flood, wildfires, etc…) are then used to generate aggregates of event frequency at a certain location for each year. When we have data over multiple years we can calculate averages, trends or other relevant statistics.\"\n",
        "list = s.split(' ')\n",
        "\n",
        "for e in list:\n",
        "  e.lower()\n",
        "  if e.startswith(\"s\"):\n",
        "    print(e, s.count(e))\n",
        "\n",
        "\n"
      ],
      "execution_count": null,
      "outputs": [
        {
          "output_type": "stream",
          "text": [
            "specific 1\n",
            "some 1\n",
            "shortcomings, 1\n",
            "such 1\n",
            "satellite 1\n",
            "statistics. 1\n"
          ],
          "name": "stdout"
        }
      ]
    },
    {
      "cell_type": "markdown",
      "metadata": {
        "id": "ZuhACMVOEkmh"
      },
      "source": [
        "2. find all words those characters is greater than 7. then. print only first + 2 characters. e.g. insurance ==> ins"
      ]
    },
    {
      "cell_type": "code",
      "metadata": {
        "id": "N6TLl0l-ElLl",
        "colab": {
          "base_uri": "https://localhost:8080/"
        },
        "outputId": "1df8401b-7493-404e-edbf-4ac595b4dcfe"
      },
      "source": [
        "s = \"The insurance company needs to understand risks for certain types of events in specific geographies. Such risk events are floods, wildfires, droughts and others. There are various methods to estimate risk. In case of floods, one can obtain official flood risk maps from the local government or insurance own historical data can be analysed. Those methods have some shortcomings, such as official maps not always being available, or they can also be outdated. When using historical insurance data, one learns from its own mistakes, which can be expensive. To address this, we can automatically analyse an extensive archive of satellite imagery and generate an assessment for each timestamp. Predictions of the event in question (flood, wildfires, etc…) are then used to generate aggregates of event frequency at a certain location for each year. When we have data over multiple years we can calculate averages, trends or other relevant statistics.\"\n",
        "list = s.split(' ')\n",
        "\n",
        "for e in list:\n",
        "  if len(e) > 7:\n",
        "    print(e[ :3])"
      ],
      "execution_count": null,
      "outputs": [
        {
          "output_type": "stream",
          "text": [
            "ins\n",
            "und\n",
            "spe\n",
            "geo\n",
            "wil\n",
            "dro\n",
            "est\n",
            "off\n",
            "gov\n",
            "ins\n",
            "his\n",
            "ana\n",
            "sho\n",
            "off\n",
            "ava\n",
            "out\n",
            "his\n",
            "ins\n",
            "mis\n",
            "exp\n",
            "aut\n",
            "ext\n",
            "sat\n",
            "gen\n",
            "ass\n",
            "tim\n",
            "Pre\n",
            "que\n",
            "wil\n",
            "gen\n",
            "agg\n",
            "fre\n",
            "loc\n",
            "mul\n",
            "cal\n",
            "ave\n",
            "rel\n",
            "sta\n"
          ],
          "name": "stdout"
        }
      ]
    },
    {
      "cell_type": "markdown",
      "metadata": {
        "id": "qqjZCiRmFlK5"
      },
      "source": [
        "3. find all words those characters is greater than 7. then. print only last 3 characters. e.g. insurance ==> nce"
      ]
    },
    {
      "cell_type": "code",
      "metadata": {
        "id": "Vn5K-_u-Flin",
        "colab": {
          "base_uri": "https://localhost:8080/"
        },
        "outputId": "8d425f59-c031-45c0-85cd-0c5f4c7d5d2a"
      },
      "source": [
        "s = \"The insurance company needs to understand risks for certain types of events in specific geographies. Such risk events are floods, wildfires, droughts and others. There are various methods to estimate risk. In case of floods, one can obtain official flood risk maps from the local government or insurance own historical data can be analysed. Those methods have some shortcomings, such as official maps not always being available, or they can also be outdated. When using historical insurance data, one learns from its own mistakes, which can be expensive. To address this, we can automatically analyse an extensive archive of satellite imagery and generate an assessment for each timestamp. Predictions of the event in question (flood, wildfires, etc…) are then used to generate aggregates of event frequency at a certain location for each year. When we have data over multiple years we can calculate averages, trends or other relevant statistics.\"\n",
        "list = s.split(' ')\n",
        "\n",
        "for e in list:\n",
        "  if len(e) > 7:\n",
        "    b = len(e) - 3\n",
        "    print(e[b: ])\n",
        "    "
      ],
      "execution_count": null,
      "outputs": [
        {
          "output_type": "stream",
          "text": [
            "nce\n",
            "and\n",
            "fic\n",
            "es.\n",
            "es,\n",
            "hts\n",
            "ate\n",
            "ial\n",
            "ent\n",
            "nce\n",
            "cal\n",
            "ed.\n",
            "gs,\n",
            "ial\n",
            "le,\n",
            "ed.\n",
            "cal\n",
            "nce\n",
            "es,\n",
            "ve.\n",
            "lly\n",
            "ive\n",
            "ite\n",
            "ate\n",
            "ent\n",
            "mp.\n",
            "ons\n",
            "ion\n",
            "es,\n",
            "ate\n",
            "tes\n",
            "ncy\n",
            "ion\n",
            "ple\n",
            "ate\n",
            "es,\n",
            "ant\n",
            "cs.\n"
          ],
          "name": "stdout"
        }
      ]
    },
    {
      "cell_type": "markdown",
      "metadata": {
        "id": "lzUbDFqeGBQb"
      },
      "source": [
        "find all words those characters is greater than 9. then. print only one character that position on last character - 2 character. e.g. automatically ==> l,  shortcomings ==> n"
      ]
    },
    {
      "cell_type": "code",
      "metadata": {
        "id": "5eqD4XFFG8KC",
        "colab": {
          "base_uri": "https://localhost:8080/"
        },
        "outputId": "e9a51f09-7c4b-49b7-8285-f694cb86dd78"
      },
      "source": [
        "s = \"The insurance company needs to understand risks for certain types of events in specific geographies. Such risk events are floods, wildfires, droughts and others. There are various methods to estimate risk. In case of floods, one can obtain official flood risk maps from the local government or insurance own historical data can be analysed. Those methods have some shortcomings, such as official maps not always being available, or they can also be outdated. When using historical insurance data, one learns from its own mistakes, which can be expensive. To address this, we can automatically analyse an extensive archive of satellite imagery and generate an assessment for each timestamp. Predictions of the event in question (flood, wildfires, etc…) are then used to generate aggregates of event frequency at a certain location for each year. When we have data over multiple years we can calculate averages, trends or other relevant statistics.\"\n",
        "list = s.split(' ')\n",
        "\n",
        "for e in list:\n",
        "  if len(e) > 9:\n",
        "    b = len(e) - 3\n",
        "    print(e, e[b])"
      ],
      "execution_count": null,
      "outputs": [
        {
          "output_type": "stream",
          "text": [
            "understand a\n",
            "geographies. e\n",
            "wildfires, e\n",
            "government e\n",
            "historical c\n",
            "shortcomings, g\n",
            "available, l\n",
            "historical c\n",
            "expensive. v\n",
            "automatically l\n",
            "assessment e\n",
            "timestamp. m\n",
            "Predictions o\n",
            "wildfires, e\n",
            "aggregates t\n",
            "statistics. c\n"
          ],
          "name": "stdout"
        }
      ]
    },
    {
      "cell_type": "markdown",
      "metadata": {
        "id": "fEyqZECiCm5e"
      },
      "source": [
        "You have text :\n",
        "\n",
        "From any one location on the surface of the Earth, it’s impossible to tell what our planet’s shape is. Having a single vantage point, even with a clear horizon, allows you to see a handful of miles (or kilometers) in any direction, but that can only allow you to place constraints. The Earth could be flat, or spherical, or in hydrostatic equilibrium, or egg-shaped, or irregular, and you wouldn’t know. All that you can know, from a single location on our surface, is that the Earth is indistinguishable from flat beyond a certain degree. If the Earth is round, it must be quite large: more than a few hundred miles (or kilometers) in                      diameter.\n",
        "\n",
        "Of course, it actually is quite round: a near-perfect sphere, to better than 99% precision. If you leave Earth’s surface, it’s impossible not to see the true shape of the Earth, as it’s been unavoidable since we first traveled high enough to observe our planet’s curvature. From high altitudes, or even from space, the true shape of the Earth can easily be seen. Its dimensions can be measured; its radius of curvature in all directions can be calculated; the imperfections and departures from sphericity are directly observable by our instruments. If you travel far enough away from Earth, you can observe an entire hemisphere at once, even watching the planet rotate on its axis in real time. At right around 12,700 kilometers (7,900 miles) in diameter, our world is undoubtedly a sphere."
      ]
    },
    {
      "cell_type": "markdown",
      "metadata": {
        "id": "4hnfnDXXDdYI"
      },
      "source": [
        "1. Create string variables that contains each paragraph of the above text. Then, how many words in each variable and its character length. also, make sure each word parsed properly. for example, \"(or kilometers)\" ==> \"or\" \"kilometers\", \"test,\" ==> \"test\". basically, you need to remove all functional characters like \"(\", \")\", \",\", \";\""
      ]
    },
    {
      "cell_type": "code",
      "metadata": {
        "id": "4BmPCQ55Dao4",
        "colab": {
          "base_uri": "https://localhost:8080/"
        },
        "outputId": "dce844e2-bd96-4fc6-8175-acc1b0d26eab"
      },
      "source": [
        "s1 = \"From any one location on the surface of the Earth, it’s impossible to tell what our planet’s shape is. Having a single vantage point, even with a clear horizon, allows you to see a handful of miles (or kilometers) in any direction, but that can only allow you to place constraints. The Earth could be flat, or spherical, or in hydrostatic equilibrium, or egg-shaped, or irregular, and you wouldn’t know. All that you can know, from a single location on our surface, is that the Earth is indistinguishable from flat beyond a certain degree. If the Earth is round, it must be quite large: more than a few hundred miles (or kilometers) in diameter.\"\n",
        "s2 = \"Of course, it actually is quite round: a near-perfect sphere, to better than 99% precision. If you leave Earth’s surface, it’s impossible not to see the true shape of the Earth, as it’s been unavoidable since we first traveled high enough to observe our planet’s curvature. From high altitudes, or even from space, the true shape of the Earth can easily be seen. Its dimensions can be measured; its radius of curvature in all directions can be calculated; the imperfections and departures from sphericity are directly observable by our instruments. If you travel far enough away from Earth, you can observe an entire hemisphere at once, even watching the planet rotate on its axis in real time. At right around 12,700 kilometers (7,900 miles) in diameter, our world is undoubtedly a sphere.\"\n",
        "\n",
        "pun = '''!()-[]{};:'\"\\,<>./?@#$%^&*_~'''\n",
        "print(pun)\n",
        "\n",
        "for i in pun:\n",
        "  s1 = s1.replace(i, '')\n",
        "  s2 = s2.replace(i, '')\n",
        "\n",
        "print(\"s:\", s1, s2)\n",
        "\n",
        "e = s1.split(' ')\n",
        "e2 = s2.split(' ')\n",
        "\n",
        "print(\"e:\", e, e2)\n"
      ],
      "execution_count": null,
      "outputs": [
        {
          "output_type": "stream",
          "text": [
            "!()-[]{};:'\"\\,<>./?@#$%^&*_~\n",
            "s: From any one location on the surface of the Earth it’s impossible to tell what our planet’s shape is Having a single vantage point even with a clear horizon allows you to see a handful of miles or kilometers in any direction but that can only allow you to place constraints The Earth could be flat or spherical or in hydrostatic equilibrium or eggshaped or irregular and you wouldn’t know All that you can know from a single location on our surface is that the Earth is indistinguishable from flat beyond a certain degree If the Earth is round it must be quite large more than a few hundred miles or kilometers in diameter Of course it actually is quite round a nearperfect sphere to better than 99 precision If you leave Earth’s surface it’s impossible not to see the true shape of the Earth as it’s been unavoidable since we first traveled high enough to observe our planet’s curvature From high altitudes or even from space the true shape of the Earth can easily be seen Its dimensions can be measured its radius of curvature in all directions can be calculated the imperfections and departures from sphericity are directly observable by our instruments If you travel far enough away from Earth you can observe an entire hemisphere at once even watching the planet rotate on its axis in real time At right around 12700 kilometers 7900 miles in diameter our world is undoubtedly a sphere\n",
            "e: ['From', 'any', 'one', 'location', 'on', 'the', 'surface', 'of', 'the', 'Earth', 'it’s', 'impossible', 'to', 'tell', 'what', 'our', 'planet’s', 'shape', 'is', 'Having', 'a', 'single', 'vantage', 'point', 'even', 'with', 'a', 'clear', 'horizon', 'allows', 'you', 'to', 'see', 'a', 'handful', 'of', 'miles', 'or', 'kilometers', 'in', 'any', 'direction', 'but', 'that', 'can', 'only', 'allow', 'you', 'to', 'place', 'constraints', 'The', 'Earth', 'could', 'be', 'flat', 'or', 'spherical', 'or', 'in', 'hydrostatic', 'equilibrium', 'or', 'eggshaped', 'or', 'irregular', 'and', 'you', 'wouldn’t', 'know', 'All', 'that', 'you', 'can', 'know', 'from', 'a', 'single', 'location', 'on', 'our', 'surface', 'is', 'that', 'the', 'Earth', 'is', 'indistinguishable', 'from', 'flat', 'beyond', 'a', 'certain', 'degree', 'If', 'the', 'Earth', 'is', 'round', 'it', 'must', 'be', 'quite', 'large', 'more', 'than', 'a', 'few', 'hundred', 'miles', 'or', 'kilometers', 'in', 'diameter'] ['Of', 'course', 'it', 'actually', 'is', 'quite', 'round', 'a', 'nearperfect', 'sphere', 'to', 'better', 'than', '99', 'precision', 'If', 'you', 'leave', 'Earth’s', 'surface', 'it’s', 'impossible', 'not', 'to', 'see', 'the', 'true', 'shape', 'of', 'the', 'Earth', 'as', 'it’s', 'been', 'unavoidable', 'since', 'we', 'first', 'traveled', 'high', 'enough', 'to', 'observe', 'our', 'planet’s', 'curvature', 'From', 'high', 'altitudes', 'or', 'even', 'from', 'space', 'the', 'true', 'shape', 'of', 'the', 'Earth', 'can', 'easily', 'be', 'seen', 'Its', 'dimensions', 'can', 'be', 'measured', 'its', 'radius', 'of', 'curvature', 'in', 'all', 'directions', 'can', 'be', 'calculated', 'the', 'imperfections', 'and', 'departures', 'from', 'sphericity', 'are', 'directly', 'observable', 'by', 'our', 'instruments', 'If', 'you', 'travel', 'far', 'enough', 'away', 'from', 'Earth', 'you', 'can', 'observe', 'an', 'entire', 'hemisphere', 'at', 'once', 'even', 'watching', 'the', 'planet', 'rotate', 'on', 'its', 'axis', 'in', 'real', 'time', 'At', 'right', 'around', '12700', 'kilometers', '7900', 'miles', 'in', 'diameter', 'our', 'world', 'is', 'undoubtedly', 'a', 'sphere']\n"
          ],
          "name": "stdout"
        }
      ]
    },
    {
      "cell_type": "markdown",
      "metadata": {
        "id": "gORcxwzcEFe-"
      },
      "source": [
        "2. from paragragh variables, find all words that contains more than 7 characters. then, make all upper case character"
      ]
    },
    {
      "cell_type": "code",
      "metadata": {
        "id": "MZGxkjKXFNZ1",
        "colab": {
          "base_uri": "https://localhost:8080/"
        },
        "outputId": "ad32a4f9-7fc0-48f1-fc6d-d78420501ec8"
      },
      "source": [
        "\n",
        "x = e + e2\n",
        "\n",
        "print(len(x))\n",
        "\n",
        "index = 0\n",
        "\n",
        "for i in x:\n",
        "  if len(i) > 7:\n",
        "    c = (i.upper())\n",
        "    x[index] = c\n",
        "  index = index +1\n",
        "\n",
        "print(x)\n",
        "\n",
        "\n",
        "# s = \"Python is a general-purpose programming language, so it can be used for many things. Python is used for web development, AI, machine learning, operating systems, mobile application development, and video games.\"\n",
        "# words = s.split()  \n",
        "# print(words)\n",
        "# # words.sort()   \n",
        "\n",
        "# count = 0\n",
        "# position = 0\n",
        "\n",
        "# for w in words:\n",
        "#   if w.lower() == \"is\":\n",
        "#     count = count + 1\n",
        "# #     print(w, count, position)\n",
        "#   position = position + 1"
      ],
      "execution_count": null,
      "outputs": [
        {
          "output_type": "stream",
          "text": [
            "246\n",
            "['From', 'any', 'one', 'LOCATION', 'on', 'the', 'surface', 'of', 'the', 'Earth', 'it’s', 'IMPOSSIBLE', 'to', 'tell', 'what', 'our', 'PLANET’S', 'shape', 'is', 'Having', 'a', 'single', 'vantage', 'point', 'even', 'with', 'a', 'clear', 'horizon', 'allows', 'you', 'to', 'see', 'a', 'handful', 'of', 'miles', 'or', 'KILOMETERS', 'in', 'any', 'DIRECTION', 'but', 'that', 'can', 'only', 'allow', 'you', 'to', 'place', 'CONSTRAINTS', 'The', 'Earth', 'could', 'be', 'flat', 'or', 'SPHERICAL', 'or', 'in', 'HYDROSTATIC', 'EQUILIBRIUM', 'or', 'EGGSHAPED', 'or', 'IRREGULAR', 'and', 'you', 'WOULDN’T', 'know', 'All', 'that', 'you', 'can', 'know', 'from', 'a', 'single', 'LOCATION', 'on', 'our', 'surface', 'is', 'that', 'the', 'Earth', 'is', 'INDISTINGUISHABLE', 'from', 'flat', 'beyond', 'a', 'certain', 'degree', 'If', 'the', 'Earth', 'is', 'round', 'it', 'must', 'be', 'quite', 'large', 'more', 'than', 'a', 'few', 'hundred', 'miles', 'or', 'KILOMETERS', 'in', 'DIAMETER', 'Of', 'course', 'it', 'ACTUALLY', 'is', 'quite', 'round', 'a', 'NEARPERFECT', 'sphere', 'to', 'better', 'than', '99', 'PRECISION', 'If', 'you', 'leave', 'Earth’s', 'surface', 'it’s', 'IMPOSSIBLE', 'not', 'to', 'see', 'the', 'true', 'shape', 'of', 'the', 'Earth', 'as', 'it’s', 'been', 'UNAVOIDABLE', 'since', 'we', 'first', 'TRAVELED', 'high', 'enough', 'to', 'observe', 'our', 'PLANET’S', 'CURVATURE', 'From', 'high', 'ALTITUDES', 'or', 'even', 'from', 'space', 'the', 'true', 'shape', 'of', 'the', 'Earth', 'can', 'easily', 'be', 'seen', 'Its', 'DIMENSIONS', 'can', 'be', 'MEASURED', 'its', 'radius', 'of', 'CURVATURE', 'in', 'all', 'DIRECTIONS', 'can', 'be', 'CALCULATED', 'the', 'IMPERFECTIONS', 'and', 'DEPARTURES', 'from', 'SPHERICITY', 'are', 'DIRECTLY', 'OBSERVABLE', 'by', 'our', 'INSTRUMENTS', 'If', 'you', 'travel', 'far', 'enough', 'away', 'from', 'Earth', 'you', 'can', 'observe', 'an', 'entire', 'HEMISPHERE', 'at', 'once', 'even', 'WATCHING', 'the', 'planet', 'rotate', 'on', 'its', 'axis', 'in', 'real', 'time', 'At', 'right', 'around', '12700', 'KILOMETERS', '7900', 'miles', 'in', 'DIAMETER', 'our', 'world', 'is', 'UNDOUBTEDLY', 'a', 'sphere']\n"
          ],
          "name": "stdout"
        }
      ]
    },
    {
      "cell_type": "markdown",
      "metadata": {
        "id": "RyJy4LPoF2XR"
      },
      "source": [
        "4. Create a new variable that contains odd index word from each paragrapgh variable."
      ]
    },
    {
      "cell_type": "code",
      "metadata": {
        "id": "ucTqf2smGLzW",
        "colab": {
          "base_uri": "https://localhost:8080/"
        },
        "outputId": "3b46297e-9b32-4943-dbf1-88f98ea324f0"
      },
      "source": [
        "index = 0\n",
        "\n",
        "\n",
        "\n",
        "odd_i = []\n",
        "for i in x:\n",
        "  p = index % 2\n",
        "  if index % 2:\n",
        "    # print(i, index % 2)\n",
        "    odd_i.append(x[index])\n",
        "  index = index + 1\n",
        "\n",
        "\n",
        "\n",
        "v = odd_i\n",
        " \n",
        "print(v)\n",
        "\n"
      ],
      "execution_count": null,
      "outputs": [
        {
          "output_type": "stream",
          "text": [
            "['any', 'LOCATION', 'the', 'of', 'Earth', 'IMPOSSIBLE', 'tell', 'our', 'shape', 'Having', 'single', 'point', 'with', 'clear', 'allows', 'to', 'a', 'of', 'or', 'in', 'DIRECTION', 'that', 'only', 'you', 'place', 'The', 'could', 'flat', 'SPHERICAL', 'in', 'EQUILIBRIUM', 'EGGSHAPED', 'IRREGULAR', 'you', 'know', 'that', 'can', 'from', 'single', 'on', 'surface', 'that', 'Earth', 'INDISTINGUISHABLE', 'flat', 'a', 'degree', 'the', 'is', 'it', 'be', 'large', 'than', 'few', 'miles', 'KILOMETERS', 'DIAMETER', 'course', 'ACTUALLY', 'quite', 'a', 'sphere', 'better', '99', 'If', 'leave', 'surface', 'IMPOSSIBLE', 'to', 'the', 'shape', 'the', 'as', 'been', 'since', 'first', 'high', 'to', 'our', 'CURVATURE', 'high', 'or', 'from', 'the', 'shape', 'the', 'can', 'be', 'Its', 'can', 'MEASURED', 'radius', 'CURVATURE', 'all', 'can', 'CALCULATED', 'IMPERFECTIONS', 'DEPARTURES', 'SPHERICITY', 'DIRECTLY', 'by', 'INSTRUMENTS', 'you', 'far', 'away', 'Earth', 'can', 'an', 'HEMISPHERE', 'once', 'WATCHING', 'planet', 'on', 'axis', 'real', 'At', 'around', 'KILOMETERS', 'miles', 'DIAMETER', 'world', 'UNDOUBTEDLY', 'sphere']\n"
          ],
          "name": "stdout"
        }
      ]
    },
    {
      "cell_type": "markdown",
      "metadata": {
        "id": "0xW0RwXWGNdx"
      },
      "source": [
        "5. remove any word that repeats more than 2 times in each paragraph sentence variable"
      ]
    },
    {
      "cell_type": "code",
      "metadata": {
        "id": "X6JPAIlpGgdX",
        "colab": {
          "base_uri": "https://localhost:8080/"
        },
        "outputId": "a3bec764-81fd-4d5d-b296-b7fe2f0afe18"
      },
      "source": [
        "index = 0\n",
        "y = x + v\n",
        "z = []\n",
        "\n",
        "for t in y:\n",
        "  z.append(t.upper())\n",
        "# print(z)\n",
        "\n",
        "\n",
        "plus = []\n",
        "\n",
        "for i in z:  \n",
        "   print(z.count(i), i)\n",
        "   if z.count(i) > 2:\n",
        "     plus.append(i)\n",
        "\n",
        "print(plus)\n",
        "   \n",
        "\n",
        "\n"
      ],
      "execution_count": null,
      "outputs": [
        {
          "output_type": "stream",
          "text": [
            "9 FROM\n",
            "3 ANY\n",
            "1 ONE\n",
            "3 LOCATION\n",
            "5 ON\n",
            "18 THE\n",
            "5 SURFACE\n",
            "8 OF\n",
            "18 THE\n",
            "10 EARTH\n",
            "3 IT’S\n",
            "4 IMPOSSIBLE\n",
            "9 TO\n",
            "2 TELL\n",
            "1 WHAT\n",
            "7 OUR\n",
            "2 PLANET’S\n",
            "6 SHAPE\n",
            "7 IS\n",
            "2 HAVING\n",
            "11 A\n",
            "4 SINGLE\n",
            "1 VANTAGE\n",
            "2 POINT\n",
            "3 EVEN\n",
            "2 WITH\n",
            "11 A\n",
            "2 CLEAR\n",
            "1 HORIZON\n",
            "2 ALLOWS\n",
            "10 YOU\n",
            "9 TO\n",
            "2 SEE\n",
            "11 A\n",
            "1 HANDFUL\n",
            "8 OF\n",
            "5 MILES\n",
            "9 OR\n",
            "5 KILOMETERS\n",
            "8 IN\n",
            "3 ANY\n",
            "2 DIRECTION\n",
            "1 BUT\n",
            "6 THAT\n",
            "11 CAN\n",
            "2 ONLY\n",
            "1 ALLOW\n",
            "10 YOU\n",
            "9 TO\n",
            "2 PLACE\n",
            "1 CONSTRAINTS\n",
            "18 THE\n",
            "10 EARTH\n",
            "2 COULD\n",
            "7 BE\n",
            "4 FLAT\n",
            "9 OR\n",
            "2 SPHERICAL\n",
            "9 OR\n",
            "8 IN\n",
            "1 HYDROSTATIC\n",
            "2 EQUILIBRIUM\n",
            "9 OR\n",
            "2 EGGSHAPED\n",
            "9 OR\n",
            "2 IRREGULAR\n",
            "2 AND\n",
            "10 YOU\n",
            "1 WOULDN’T\n",
            "3 KNOW\n",
            "3 ALL\n",
            "6 THAT\n",
            "10 YOU\n",
            "11 CAN\n",
            "3 KNOW\n",
            "9 FROM\n",
            "11 A\n",
            "4 SINGLE\n",
            "3 LOCATION\n",
            "5 ON\n",
            "7 OUR\n",
            "5 SURFACE\n",
            "7 IS\n",
            "6 THAT\n",
            "18 THE\n",
            "10 EARTH\n",
            "7 IS\n",
            "2 INDISTINGUISHABLE\n",
            "9 FROM\n",
            "4 FLAT\n",
            "1 BEYOND\n",
            "11 A\n",
            "1 CERTAIN\n",
            "2 DEGREE\n",
            "4 IF\n",
            "18 THE\n",
            "10 EARTH\n",
            "7 IS\n",
            "2 ROUND\n",
            "3 IT\n",
            "1 MUST\n",
            "7 BE\n",
            "3 QUITE\n",
            "2 LARGE\n",
            "1 MORE\n",
            "3 THAN\n",
            "11 A\n",
            "2 FEW\n",
            "1 HUNDRED\n",
            "5 MILES\n",
            "9 OR\n",
            "5 KILOMETERS\n",
            "8 IN\n",
            "4 DIAMETER\n",
            "8 OF\n",
            "2 COURSE\n",
            "3 IT\n",
            "2 ACTUALLY\n",
            "7 IS\n",
            "3 QUITE\n",
            "2 ROUND\n",
            "11 A\n",
            "1 NEARPERFECT\n",
            "4 SPHERE\n",
            "9 TO\n",
            "2 BETTER\n",
            "3 THAN\n",
            "2 99\n",
            "1 PRECISION\n",
            "4 IF\n",
            "10 YOU\n",
            "2 LEAVE\n",
            "1 EARTH’S\n",
            "5 SURFACE\n",
            "3 IT’S\n",
            "4 IMPOSSIBLE\n",
            "1 NOT\n",
            "9 TO\n",
            "2 SEE\n",
            "18 THE\n",
            "2 TRUE\n",
            "6 SHAPE\n",
            "8 OF\n",
            "18 THE\n",
            "10 EARTH\n",
            "2 AS\n",
            "3 IT’S\n",
            "2 BEEN\n",
            "1 UNAVOIDABLE\n",
            "2 SINCE\n",
            "1 WE\n",
            "2 FIRST\n",
            "1 TRAVELED\n",
            "4 HIGH\n",
            "2 ENOUGH\n",
            "9 TO\n",
            "2 OBSERVE\n",
            "7 OUR\n",
            "2 PLANET’S\n",
            "4 CURVATURE\n",
            "9 FROM\n",
            "4 HIGH\n",
            "1 ALTITUDES\n",
            "9 OR\n",
            "3 EVEN\n",
            "9 FROM\n",
            "1 SPACE\n",
            "18 THE\n",
            "2 TRUE\n",
            "6 SHAPE\n",
            "8 OF\n",
            "18 THE\n",
            "10 EARTH\n",
            "11 CAN\n",
            "1 EASILY\n",
            "7 BE\n",
            "1 SEEN\n",
            "4 ITS\n",
            "1 DIMENSIONS\n",
            "11 CAN\n",
            "7 BE\n",
            "2 MEASURED\n",
            "4 ITS\n",
            "2 RADIUS\n",
            "8 OF\n",
            "4 CURVATURE\n",
            "8 IN\n",
            "3 ALL\n",
            "1 DIRECTIONS\n",
            "11 CAN\n",
            "7 BE\n",
            "2 CALCULATED\n",
            "18 THE\n",
            "2 IMPERFECTIONS\n",
            "2 AND\n",
            "2 DEPARTURES\n",
            "9 FROM\n",
            "2 SPHERICITY\n",
            "1 ARE\n",
            "2 DIRECTLY\n",
            "1 OBSERVABLE\n",
            "2 BY\n",
            "7 OUR\n",
            "2 INSTRUMENTS\n",
            "4 IF\n",
            "10 YOU\n",
            "1 TRAVEL\n",
            "2 FAR\n",
            "2 ENOUGH\n",
            "2 AWAY\n",
            "9 FROM\n",
            "10 EARTH\n",
            "10 YOU\n",
            "11 CAN\n",
            "2 OBSERVE\n",
            "2 AN\n",
            "1 ENTIRE\n",
            "2 HEMISPHERE\n",
            "3 AT\n",
            "2 ONCE\n",
            "3 EVEN\n",
            "2 WATCHING\n",
            "18 THE\n",
            "2 PLANET\n",
            "1 ROTATE\n",
            "5 ON\n",
            "4 ITS\n",
            "2 AXIS\n",
            "8 IN\n",
            "2 REAL\n",
            "1 TIME\n",
            "3 AT\n",
            "1 RIGHT\n",
            "2 AROUND\n",
            "1 12700\n",
            "5 KILOMETERS\n",
            "1 7900\n",
            "5 MILES\n",
            "8 IN\n",
            "4 DIAMETER\n",
            "7 OUR\n",
            "2 WORLD\n",
            "7 IS\n",
            "2 UNDOUBTEDLY\n",
            "11 A\n",
            "4 SPHERE\n",
            "3 ANY\n",
            "3 LOCATION\n",
            "18 THE\n",
            "8 OF\n",
            "10 EARTH\n",
            "4 IMPOSSIBLE\n",
            "2 TELL\n",
            "7 OUR\n",
            "6 SHAPE\n",
            "2 HAVING\n",
            "4 SINGLE\n",
            "2 POINT\n",
            "2 WITH\n",
            "2 CLEAR\n",
            "2 ALLOWS\n",
            "9 TO\n",
            "11 A\n",
            "8 OF\n",
            "9 OR\n",
            "8 IN\n",
            "2 DIRECTION\n",
            "6 THAT\n",
            "2 ONLY\n",
            "10 YOU\n",
            "2 PLACE\n",
            "18 THE\n",
            "2 COULD\n",
            "4 FLAT\n",
            "2 SPHERICAL\n",
            "8 IN\n",
            "2 EQUILIBRIUM\n",
            "2 EGGSHAPED\n",
            "2 IRREGULAR\n",
            "10 YOU\n",
            "3 KNOW\n",
            "6 THAT\n",
            "11 CAN\n",
            "9 FROM\n",
            "4 SINGLE\n",
            "5 ON\n",
            "5 SURFACE\n",
            "6 THAT\n",
            "10 EARTH\n",
            "2 INDISTINGUISHABLE\n",
            "4 FLAT\n",
            "11 A\n",
            "2 DEGREE\n",
            "18 THE\n",
            "7 IS\n",
            "3 IT\n",
            "7 BE\n",
            "2 LARGE\n",
            "3 THAN\n",
            "2 FEW\n",
            "5 MILES\n",
            "5 KILOMETERS\n",
            "4 DIAMETER\n",
            "2 COURSE\n",
            "2 ACTUALLY\n",
            "3 QUITE\n",
            "11 A\n",
            "4 SPHERE\n",
            "2 BETTER\n",
            "2 99\n",
            "4 IF\n",
            "2 LEAVE\n",
            "5 SURFACE\n",
            "4 IMPOSSIBLE\n",
            "9 TO\n",
            "18 THE\n",
            "6 SHAPE\n",
            "18 THE\n",
            "2 AS\n",
            "2 BEEN\n",
            "2 SINCE\n",
            "2 FIRST\n",
            "4 HIGH\n",
            "9 TO\n",
            "7 OUR\n",
            "4 CURVATURE\n",
            "4 HIGH\n",
            "9 OR\n",
            "9 FROM\n",
            "18 THE\n",
            "6 SHAPE\n",
            "18 THE\n",
            "11 CAN\n",
            "7 BE\n",
            "4 ITS\n",
            "11 CAN\n",
            "2 MEASURED\n",
            "2 RADIUS\n",
            "4 CURVATURE\n",
            "3 ALL\n",
            "11 CAN\n",
            "2 CALCULATED\n",
            "2 IMPERFECTIONS\n",
            "2 DEPARTURES\n",
            "2 SPHERICITY\n",
            "2 DIRECTLY\n",
            "2 BY\n",
            "2 INSTRUMENTS\n",
            "10 YOU\n",
            "2 FAR\n",
            "2 AWAY\n",
            "10 EARTH\n",
            "11 CAN\n",
            "2 AN\n",
            "2 HEMISPHERE\n",
            "2 ONCE\n",
            "2 WATCHING\n",
            "2 PLANET\n",
            "5 ON\n",
            "2 AXIS\n",
            "2 REAL\n",
            "3 AT\n",
            "2 AROUND\n",
            "5 KILOMETERS\n",
            "5 MILES\n",
            "4 DIAMETER\n",
            "2 WORLD\n",
            "2 UNDOUBTEDLY\n",
            "4 SPHERE\n",
            "['FROM', 'ANY', 'LOCATION', 'ON', 'THE', 'SURFACE', 'OF', 'THE', 'EARTH', 'IT’S', 'IMPOSSIBLE', 'TO', 'OUR', 'SHAPE', 'IS', 'A', 'SINGLE', 'EVEN', 'A', 'YOU', 'TO', 'A', 'OF', 'MILES', 'OR', 'KILOMETERS', 'IN', 'ANY', 'THAT', 'CAN', 'YOU', 'TO', 'THE', 'EARTH', 'BE', 'FLAT', 'OR', 'OR', 'IN', 'OR', 'OR', 'YOU', 'KNOW', 'ALL', 'THAT', 'YOU', 'CAN', 'KNOW', 'FROM', 'A', 'SINGLE', 'LOCATION', 'ON', 'OUR', 'SURFACE', 'IS', 'THAT', 'THE', 'EARTH', 'IS', 'FROM', 'FLAT', 'A', 'IF', 'THE', 'EARTH', 'IS', 'IT', 'BE', 'QUITE', 'THAN', 'A', 'MILES', 'OR', 'KILOMETERS', 'IN', 'DIAMETER', 'OF', 'IT', 'IS', 'QUITE', 'A', 'SPHERE', 'TO', 'THAN', 'IF', 'YOU', 'SURFACE', 'IT’S', 'IMPOSSIBLE', 'TO', 'THE', 'SHAPE', 'OF', 'THE', 'EARTH', 'IT’S', 'HIGH', 'TO', 'OUR', 'CURVATURE', 'FROM', 'HIGH', 'OR', 'EVEN', 'FROM', 'THE', 'SHAPE', 'OF', 'THE', 'EARTH', 'CAN', 'BE', 'ITS', 'CAN', 'BE', 'ITS', 'OF', 'CURVATURE', 'IN', 'ALL', 'CAN', 'BE', 'THE', 'FROM', 'OUR', 'IF', 'YOU', 'FROM', 'EARTH', 'YOU', 'CAN', 'AT', 'EVEN', 'THE', 'ON', 'ITS', 'IN', 'AT', 'KILOMETERS', 'MILES', 'IN', 'DIAMETER', 'OUR', 'IS', 'A', 'SPHERE', 'ANY', 'LOCATION', 'THE', 'OF', 'EARTH', 'IMPOSSIBLE', 'OUR', 'SHAPE', 'SINGLE', 'TO', 'A', 'OF', 'OR', 'IN', 'THAT', 'YOU', 'THE', 'FLAT', 'IN', 'YOU', 'KNOW', 'THAT', 'CAN', 'FROM', 'SINGLE', 'ON', 'SURFACE', 'THAT', 'EARTH', 'FLAT', 'A', 'THE', 'IS', 'IT', 'BE', 'THAN', 'MILES', 'KILOMETERS', 'DIAMETER', 'QUITE', 'A', 'SPHERE', 'IF', 'SURFACE', 'IMPOSSIBLE', 'TO', 'THE', 'SHAPE', 'THE', 'HIGH', 'TO', 'OUR', 'CURVATURE', 'HIGH', 'OR', 'FROM', 'THE', 'SHAPE', 'THE', 'CAN', 'BE', 'ITS', 'CAN', 'CURVATURE', 'ALL', 'CAN', 'YOU', 'EARTH', 'CAN', 'ON', 'AT', 'KILOMETERS', 'MILES', 'DIAMETER', 'SPHERE']\n"
          ],
          "name": "stdout"
        }
      ]
    },
    {
      "cell_type": "markdown",
      "metadata": {
        "id": "iQBip2zQG26q"
      },
      "source": [
        "6. from your variables, find all words that ends with \"s\""
      ]
    },
    {
      "cell_type": "code",
      "metadata": {
        "id": "XbsyW8iNG12X",
        "colab": {
          "base_uri": "https://localhost:8080/"
        },
        "outputId": "ff777e2a-fe08-4b9e-c911-a8c035b6023f"
      },
      "source": [
        "print(z)\n",
        "\n",
        "for i in z:\n",
        "  if i.endswith(\"S\"):\n",
        "    print(i)\n",
        "\n"
      ],
      "execution_count": null,
      "outputs": [
        {
          "output_type": "stream",
          "text": [
            "['FROM', 'ANY', 'ONE', 'LOCATION', 'ON', 'THE', 'SURFACE', 'OF', 'THE', 'EARTH', 'IT’S', 'IMPOSSIBLE', 'TO', 'TELL', 'WHAT', 'OUR', 'PLANET’S', 'SHAPE', 'IS', 'HAVING', 'A', 'SINGLE', 'VANTAGE', 'POINT', 'EVEN', 'WITH', 'A', 'CLEAR', 'HORIZON', 'ALLOWS', 'YOU', 'TO', 'SEE', 'A', 'HANDFUL', 'OF', 'MILES', 'OR', 'KILOMETERS', 'IN', 'ANY', 'DIRECTION', 'BUT', 'THAT', 'CAN', 'ONLY', 'ALLOW', 'YOU', 'TO', 'PLACE', 'CONSTRAINTS', 'THE', 'EARTH', 'COULD', 'BE', 'FLAT', 'OR', 'SPHERICAL', 'OR', 'IN', 'HYDROSTATIC', 'EQUILIBRIUM', 'OR', 'EGGSHAPED', 'OR', 'IRREGULAR', 'AND', 'YOU', 'WOULDN’T', 'KNOW', 'ALL', 'THAT', 'YOU', 'CAN', 'KNOW', 'FROM', 'A', 'SINGLE', 'LOCATION', 'ON', 'OUR', 'SURFACE', 'IS', 'THAT', 'THE', 'EARTH', 'IS', 'INDISTINGUISHABLE', 'FROM', 'FLAT', 'BEYOND', 'A', 'CERTAIN', 'DEGREE', 'IF', 'THE', 'EARTH', 'IS', 'ROUND', 'IT', 'MUST', 'BE', 'QUITE', 'LARGE', 'MORE', 'THAN', 'A', 'FEW', 'HUNDRED', 'MILES', 'OR', 'KILOMETERS', 'IN', 'DIAMETER', 'OF', 'COURSE', 'IT', 'ACTUALLY', 'IS', 'QUITE', 'ROUND', 'A', 'NEARPERFECT', 'SPHERE', 'TO', 'BETTER', 'THAN', '99', 'PRECISION', 'IF', 'YOU', 'LEAVE', 'EARTH’S', 'SURFACE', 'IT’S', 'IMPOSSIBLE', 'NOT', 'TO', 'SEE', 'THE', 'TRUE', 'SHAPE', 'OF', 'THE', 'EARTH', 'AS', 'IT’S', 'BEEN', 'UNAVOIDABLE', 'SINCE', 'WE', 'FIRST', 'TRAVELED', 'HIGH', 'ENOUGH', 'TO', 'OBSERVE', 'OUR', 'PLANET’S', 'CURVATURE', 'FROM', 'HIGH', 'ALTITUDES', 'OR', 'EVEN', 'FROM', 'SPACE', 'THE', 'TRUE', 'SHAPE', 'OF', 'THE', 'EARTH', 'CAN', 'EASILY', 'BE', 'SEEN', 'ITS', 'DIMENSIONS', 'CAN', 'BE', 'MEASURED', 'ITS', 'RADIUS', 'OF', 'CURVATURE', 'IN', 'ALL', 'DIRECTIONS', 'CAN', 'BE', 'CALCULATED', 'THE', 'IMPERFECTIONS', 'AND', 'DEPARTURES', 'FROM', 'SPHERICITY', 'ARE', 'DIRECTLY', 'OBSERVABLE', 'BY', 'OUR', 'INSTRUMENTS', 'IF', 'YOU', 'TRAVEL', 'FAR', 'ENOUGH', 'AWAY', 'FROM', 'EARTH', 'YOU', 'CAN', 'OBSERVE', 'AN', 'ENTIRE', 'HEMISPHERE', 'AT', 'ONCE', 'EVEN', 'WATCHING', 'THE', 'PLANET', 'ROTATE', 'ON', 'ITS', 'AXIS', 'IN', 'REAL', 'TIME', 'AT', 'RIGHT', 'AROUND', '12700', 'KILOMETERS', '7900', 'MILES', 'IN', 'DIAMETER', 'OUR', 'WORLD', 'IS', 'UNDOUBTEDLY', 'A', 'SPHERE', 'ANY', 'LOCATION', 'THE', 'OF', 'EARTH', 'IMPOSSIBLE', 'TELL', 'OUR', 'SHAPE', 'HAVING', 'SINGLE', 'POINT', 'WITH', 'CLEAR', 'ALLOWS', 'TO', 'A', 'OF', 'OR', 'IN', 'DIRECTION', 'THAT', 'ONLY', 'YOU', 'PLACE', 'THE', 'COULD', 'FLAT', 'SPHERICAL', 'IN', 'EQUILIBRIUM', 'EGGSHAPED', 'IRREGULAR', 'YOU', 'KNOW', 'THAT', 'CAN', 'FROM', 'SINGLE', 'ON', 'SURFACE', 'THAT', 'EARTH', 'INDISTINGUISHABLE', 'FLAT', 'A', 'DEGREE', 'THE', 'IS', 'IT', 'BE', 'LARGE', 'THAN', 'FEW', 'MILES', 'KILOMETERS', 'DIAMETER', 'COURSE', 'ACTUALLY', 'QUITE', 'A', 'SPHERE', 'BETTER', '99', 'IF', 'LEAVE', 'SURFACE', 'IMPOSSIBLE', 'TO', 'THE', 'SHAPE', 'THE', 'AS', 'BEEN', 'SINCE', 'FIRST', 'HIGH', 'TO', 'OUR', 'CURVATURE', 'HIGH', 'OR', 'FROM', 'THE', 'SHAPE', 'THE', 'CAN', 'BE', 'ITS', 'CAN', 'MEASURED', 'RADIUS', 'CURVATURE', 'ALL', 'CAN', 'CALCULATED', 'IMPERFECTIONS', 'DEPARTURES', 'SPHERICITY', 'DIRECTLY', 'BY', 'INSTRUMENTS', 'YOU', 'FAR', 'AWAY', 'EARTH', 'CAN', 'AN', 'HEMISPHERE', 'ONCE', 'WATCHING', 'PLANET', 'ON', 'AXIS', 'REAL', 'AT', 'AROUND', 'KILOMETERS', 'MILES', 'DIAMETER', 'WORLD', 'UNDOUBTEDLY', 'SPHERE']\n",
            "IT’S\n",
            "PLANET’S\n",
            "IS\n",
            "ALLOWS\n",
            "MILES\n",
            "KILOMETERS\n",
            "CONSTRAINTS\n",
            "IS\n",
            "IS\n",
            "IS\n",
            "MILES\n",
            "KILOMETERS\n",
            "IS\n",
            "EARTH’S\n",
            "IT’S\n",
            "AS\n",
            "IT’S\n",
            "PLANET’S\n",
            "ALTITUDES\n",
            "ITS\n",
            "DIMENSIONS\n",
            "ITS\n",
            "RADIUS\n",
            "DIRECTIONS\n",
            "IMPERFECTIONS\n",
            "DEPARTURES\n",
            "INSTRUMENTS\n",
            "ITS\n",
            "AXIS\n",
            "KILOMETERS\n",
            "MILES\n",
            "IS\n",
            "ALLOWS\n",
            "IS\n",
            "MILES\n",
            "KILOMETERS\n",
            "AS\n",
            "ITS\n",
            "RADIUS\n",
            "IMPERFECTIONS\n",
            "DEPARTURES\n",
            "INSTRUMENTS\n",
            "AXIS\n",
            "KILOMETERS\n",
            "MILES\n"
          ],
          "name": "stdout"
        }
      ]
    },
    {
      "cell_type": "markdown",
      "metadata": {
        "id": "9DkvbNXcG_I9"
      },
      "source": [
        "7. find all words from the variables :\n",
        "\n",
        "\n",
        "*   numberic value\n",
        "*   alphnumberic value\n",
        "\n",
        "\n",
        "\n",
        "\n"
      ]
    },
    {
      "cell_type": "code",
      "metadata": {
        "colab": {
          "base_uri": "https://localhost:8080/"
        },
        "id": "yqdy9hg9C1Wh",
        "outputId": "cec41d5e-ec05-4c90-d7f0-4c2f2c2c70cf"
      },
      "source": [
        "s = \"abc123\"\n",
        "\n",
        "print (any(c.isalnum() for c in s))\n",
        "print (any(c.isalpha() for c in s))\n",
        "print (any(c.isdigit() for c in s))\n",
        "print (any(c.islower() for c in s))\n",
        "print (any(c.isupper() for c in s))"
      ],
      "execution_count": null,
      "outputs": [
        {
          "output_type": "stream",
          "text": [
            "True\n",
            "True\n",
            "True\n",
            "True\n",
            "False\n"
          ],
          "name": "stdout"
        }
      ]
    },
    {
      "cell_type": "code",
      "metadata": {
        "id": "NOBG4JRLHr5I",
        "colab": {
          "base_uri": "https://localhost:8080/"
        },
        "outputId": "c91674ec-5aa7-47f5-dd1e-76c367b7e058"
      },
      "source": [
        "# print(z)\n",
        "\n",
        "\n",
        "\n",
        "for i in z:\n",
        "  if i.isnumeric():\n",
        "    print(i, \"1\")\n",
        "  a = any(c.isalpha() for c in i)\n",
        "  b = any(c.isdigit() for c in i)\n",
        "  if a and b:\n",
        "    print(i, \"2\")"
      ],
      "execution_count": null,
      "outputs": [
        {
          "output_type": "stream",
          "text": [
            "99 1\n",
            "12700 1\n",
            "7900 1\n",
            "99 1\n"
          ],
          "name": "stdout"
        }
      ]
    },
    {
      "cell_type": "markdown",
      "metadata": {
        "id": "qQLHDxafHsaW"
      },
      "source": [
        "8. find longest word from each variables. make sure there is no extra space. for examples, if there is more than 1 space between character, you need to move extra spaces"
      ]
    },
    {
      "cell_type": "code",
      "metadata": {
        "id": "bkOvOr9HGGbu"
      },
      "source": [
        ""
      ],
      "execution_count": null,
      "outputs": []
    }
  ]
}